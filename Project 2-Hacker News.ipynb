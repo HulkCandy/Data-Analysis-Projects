{
 "cells": [
  {
   "cell_type": "code",
   "execution_count": 1,
   "metadata": {},
   "outputs": [],
   "source": [
    "from csv import reader \n",
    "opened_file=open('HN_posts_year_to_Sep_26_2016.csv',encoding=\"utf8\")\n",
    "read_file=reader(opened_file)\n",
    "hn=list(read_file)\n",
    "hn_header=hn[0]\n",
    "hn=hn[1:]\n"
   ]
  },
  {
   "cell_type": "code",
   "execution_count": 2,
   "metadata": {},
   "outputs": [
    {
     "name": "stdout",
     "output_type": "stream",
     "text": [
      "['id', 'title', 'url', 'num_points', 'num_comments', 'author', 'created_at']\n",
      "\n",
      "\n",
      "[['12579008', 'You have two days to comment if you want stem cells to be classified as your own', 'http://www.regulations.gov/document?D=FDA-2015-D-3719-0018', '1', '0', 'altstar', '9/26/2016 3:26'], ['12579005', 'SQLAR  the SQLite Archiver', 'https://www.sqlite.org/sqlar/doc/trunk/README.md', '1', '0', 'blacksqr', '9/26/2016 3:24'], ['12578997', 'What if we just printed a flatscreen television on the side of our boxes?', 'https://medium.com/vanmoof/our-secrets-out-f21c1f03fdc8#.ietxmez43', '1', '0', 'pavel_lishin', '9/26/2016 3:19'], ['12578989', 'algorithmic music', 'http://cacm.acm.org/magazines/2011/7/109891-algorithmic-composition/fulltext', '1', '0', 'poindontcare', '9/26/2016 3:16'], ['12578979', 'How the Data Vault Enables the Next-Gen Data Warehouse and Data Lake', 'https://www.talend.com/blog/2016/05/12/talend-and-Â\\x93the-data-vaultÂ\\x94', '1', '0', 'markgainor1', '9/26/2016 3:14'], ['12578975', 'Saving the Hassle of Shopping', 'https://blog.menswr.com/2016/09/07/whats-new-with-your-style-feed/', '1', '1', 'bdoux', '9/26/2016 3:13'], ['12578954', \"Macalifa  A new open-source music app for UWP that won't suck\", 'http://forums.windowscentral.com/windows-phone-apps/440523-macalifa-new-open-source-music-app-uwp-wont-suck.html', '1', '0', 'thecodrr', '9/26/2016 3:06'], ['12578942', 'GitHub  theweavrs/Macalifa: A music player written for UWP', 'https://github.com/theweavrs/Macalifa', '1', '0', 'thecodrr', '9/26/2016 3:04'], ['12578919', 'Google Allo  first Impression', 'http://prodissues.com/2016/09/google-allo-first-impression.html', '3', '0', 'jandll', '9/26/2016 2:57'], ['12578918', 'Advanced Multimedia on the Linux Command Line', 'https://avi.alkalay.net/2016/09/multimedia-linux-cli.html', '1', '0', 'mynameislegion', '9/26/2016 2:56'], ['12578908', 'Ask HN: What TLD do you use for local development?', '', '4', '7', 'Sevrene', '9/26/2016 2:53'], ['12578893', 'Muroc Maru', 'http://www.weirdca.com/location.php?location=511', '1', '0', 'x43b', '9/26/2016 2:46'], ['12578879', 'Why companies make their products worse', 'https://www.1843magazine.com/ideas/the-daily/why-companies-make-their-products-worse', '4', '0', 'RachelF', '9/26/2016 2:40'], ['12578866', 'Tuning AWS SQS Queues', 'http://blog.simontaranto.com/post/2016-09-25-tuning-aws-sqs.html/', '3', '0', 'srt32', '9/26/2016 2:37'], ['12578857', 'The Promise of GitHub', 'http://constantbetasoftware.com/2016/09/26/github.html', '2', '0', 'ttam', '9/26/2016 2:34']]\n"
     ]
    }
   ],
   "source": [
    "print(hn_header)\n",
    "print('\\n')\n",
    "print(hn[:15])"
   ]
  },
  {
   "cell_type": "code",
   "execution_count": 3,
   "metadata": {},
   "outputs": [
    {
     "name": "stdout",
     "output_type": "stream",
     "text": [
      "[['12578908', 'Ask HN: What TLD do you use for local development?', '', '4', '7', 'Sevrene', '9/26/2016 2:53'], ['12578522', 'Ask HN: How do you pass on your work when you die?', '', '6', '3', 'PascLeRasc', '9/26/2016 1:17'], ['12577908', 'Ask HN: How a DNS problem can be limited to a geographic region?', '', '1', '0', 'kuon', '9/25/2016 22:57'], ['12577870', 'Ask HN: Why join a fund when you can be an angel?', '', '1', '3', 'anthony_james', '9/25/2016 22:48'], ['12577647', 'Ask HN: Someone uses stock trading as passive income?', '', '5', '2', '00taffe', '9/25/2016 21:50']]\n",
      "\n",
      "\n",
      "[['12578335', 'Show HN: Finding puns computationally', 'http://puns.samueltaylor.org/', '2', '0', 'saamm', '9/26/2016 0:36'], ['12578182', 'Show HN: A simple library for complicated animations', 'https://christinecha.github.io/choreographer-js/', '1', '0', 'christinecha', '9/26/2016 0:01'], ['12578098', 'Show HN: WebGL visualization of DNA sequences', 'http://grondilu.github.io/dna.html', '1', '0', 'grondilu', '9/25/2016 23:44'], ['12577991', 'Show HN: Pomodoro-centric, heirarchical project management with ES6 modules', 'https://github.com/jakebian/zeal', '2', '0', 'dbranes', '9/25/2016 23:17'], ['12577142', 'Show HN: Jumble  Essays on the go #PaulInYourPocket', 'https://itunes.apple.com/us/app/jumble-find-startup-essay/id1150939197?ls=1&mt=8', '1', '1', 'ryderj', '9/25/2016 20:06']]\n",
      "\n",
      "\n",
      "[['12579008', 'You have two days to comment if you want stem cells to be classified as your own', 'http://www.regulations.gov/document?D=FDA-2015-D-3719-0018', '1', '0', 'altstar', '9/26/2016 3:26'], ['12579005', 'SQLAR  the SQLite Archiver', 'https://www.sqlite.org/sqlar/doc/trunk/README.md', '1', '0', 'blacksqr', '9/26/2016 3:24'], ['12578997', 'What if we just printed a flatscreen television on the side of our boxes?', 'https://medium.com/vanmoof/our-secrets-out-f21c1f03fdc8#.ietxmez43', '1', '0', 'pavel_lishin', '9/26/2016 3:19'], ['12578989', 'algorithmic music', 'http://cacm.acm.org/magazines/2011/7/109891-algorithmic-composition/fulltext', '1', '0', 'poindontcare', '9/26/2016 3:16'], ['12578979', 'How the Data Vault Enables the Next-Gen Data Warehouse and Data Lake', 'https://www.talend.com/blog/2016/05/12/talend-and-Â\\x93the-data-vaultÂ\\x94', '1', '0', 'markgainor1', '9/26/2016 3:14']]\n"
     ]
    }
   ],
   "source": [
    "ask_posts=[]\n",
    "show_posts=[]\n",
    "other_posts=[]\n",
    "for each in hn:\n",
    "    title= each[1]\n",
    "    title=title.lower()# 要把字母都统一，不然大写的不会被识别\n",
    "    if title.startswith('ask hn'):  #  startswith（开头字母）\n",
    "        ask_posts.append(each)\n",
    "    elif title.startswith('show hn'):\n",
    "        show_posts.append(each)\n",
    "    else:\n",
    "        other_posts.append(each)\n",
    "print(ask_posts[:5])\n",
    "print('\\n')\n",
    "print(show_posts[:5])\n",
    "print('\\n')\n",
    "print(other_posts[:5])"
   ]
  },
  {
   "cell_type": "code",
   "execution_count": 4,
   "metadata": {},
   "outputs": [
    {
     "name": "stdout",
     "output_type": "stream",
     "text": [
      "10.393478498741656\n",
      "4.886099625910612\n"
     ]
    }
   ],
   "source": [
    "total_ask_comments=0\n",
    "num_ask=0    # 可以用len（）来代替\n",
    "for each in ask_posts:\n",
    "    ask_comments=int(each[4])\n",
    "    total_ask_comments+=ask_comments\n",
    "avg_ask_comment=(total_ask_comments/len(ask_posts))\n",
    "print(avg_ask_comment)\n",
    "#print('\\n')\n",
    "\n",
    "total_show_comments=0\n",
    "for each in show_posts:\n",
    "    show_comments=int(each[4])\n",
    "    total_show_comments+=show_comments\n",
    "avg_show_comments=(total_show_comments/len(show_posts))\n",
    "print(avg_show_comments)"
   ]
  },
  {
   "cell_type": "code",
   "execution_count": 5,
   "metadata": {},
   "outputs": [
    {
     "name": "stdout",
     "output_type": "stream",
     "text": [
      "{'02': 269, '01': 282, '22': 383, '21': 518, '19': 552, '17': 587, '15': 646, '14': 513, '13': 444, '11': 312, '10': 282, '09': 222, '07': 226, '03': 271, '23': 343, '20': 510, '16': 579, '08': 257, '00': 301, '18': 614, '12': 342, '04': 243, '06': 234, '05': 209}\n",
      "\n",
      "\n",
      "{'02': 2996, '01': 2089, '22': 3372, '21': 4500, '19': 3954, '17': 5547, '15': 18525, '14': 4972, '13': 7245, '11': 2797, '10': 3013, '09': 1477, '07': 1585, '03': 2154, '23': 2297, '20': 4462, '16': 4466, '08': 2362, '00': 2277, '18': 4877, '12': 4234, '04': 2360, '06': 1587, '05': 1838}\n"
     ]
    }
   ],
   "source": [
    "import datetime as dt   #此时的datetime为模块  dt.datetime.striptime 中 datetime为class striptime为method\n",
    "result_list=[]\n",
    "for each in ask_posts:\n",
    "    created_at=each[6]\n",
    "    ask_comment=int(each[4])\n",
    "    result_list.append([created_at,ask_comment])\n",
    "#print(result_list)\n",
    "\n",
    "counts_by_hour={}\n",
    "comments_by_hour={}\n",
    "for each in result_list:\n",
    "    comment=each[1]\n",
    "    date=dt.datetime.strptime(each[0],\"%m/%d/%Y %H:%M\")\n",
    "    hour=date.strftime('%H')   #date为实例（对象），调用strftime来提取时间\n",
    "    # print(hour,comment)\n",
    "    if hour not in counts_by_hour:\n",
    "        counts_by_hour[hour]=1\n",
    "        comments_by_hour[hour]=comment\n",
    "    else:\n",
    "        counts_by_hour[hour]+=1\n",
    "        comments_by_hour[hour]+=comment\n",
    "print(counts_by_hour)\n",
    "print('\\n')\n",
    "print(comments_by_hour)\n",
    "\n",
    "\n"
   ]
  },
  {
   "cell_type": "code",
   "execution_count": 6,
   "metadata": {},
   "outputs": [
    {
     "name": "stdout",
     "output_type": "stream",
     "text": [
      "[['02', 11.137546468401487], ['01', 7.407801418439717], ['22', 8.804177545691905], ['21', 8.687258687258687], ['19', 7.163043478260869], ['17', 9.449744463373083], ['15', 28.676470588235293], ['14', 9.692007797270955], ['13', 16.31756756756757], ['11', 8.96474358974359], ['10', 10.684397163120567], ['09', 6.653153153153153], ['07', 7.013274336283186], ['03', 7.948339483394834], ['23', 6.696793002915452], ['20', 8.749019607843136], ['16', 7.713298791018998], ['08', 9.190661478599221], ['00', 7.5647840531561465], ['18', 7.94299674267101], ['12', 12.380116959064328], ['04', 9.7119341563786], ['06', 6.782051282051282], ['05', 8.794258373205741]]\n"
     ]
    }
   ],
   "source": [
    "avg_by_hour=[]\n",
    "for hour in comments_by_hour:\n",
    "    avg_by_hour.append([hour,comments_by_hour[hour]/counts_by_hour[hour]])\n",
    "print(avg_by_hour)"
   ]
  },
  {
   "cell_type": "code",
   "execution_count": 13,
   "metadata": {},
   "outputs": [
    {
     "name": "stdout",
     "output_type": "stream",
     "text": [
      "15:00: 28.68 average comments per post.\n",
      "13:00: 16.32 average comments per post.\n",
      "12:00: 12.38 average comments per post.\n",
      "02:00: 11.14 average comments per post.\n",
      "10:00: 10.68 average comments per post.\n",
      "04:00: 9.71 average comments per post.\n",
      "14:00: 9.69 average comments per post.\n",
      "17:00: 9.45 average comments per post.\n",
      "08:00: 9.19 average comments per post.\n",
      "11:00: 8.96 average comments per post.\n",
      "22:00: 8.80 average comments per post.\n",
      "05:00: 8.79 average comments per post.\n",
      "20:00: 8.75 average comments per post.\n",
      "21:00: 8.69 average comments per post.\n",
      "03:00: 7.95 average comments per post.\n",
      "18:00: 7.94 average comments per post.\n",
      "16:00: 7.71 average comments per post.\n",
      "00:00: 7.56 average comments per post.\n",
      "01:00: 7.41 average comments per post.\n",
      "19:00: 7.16 average comments per post.\n",
      "07:00: 7.01 average comments per post.\n",
      "06:00: 6.78 average comments per post.\n",
      "23:00: 6.70 average comments per post.\n",
      "09:00: 6.65 average comments per post.\n"
     ]
    }
   ],
   "source": [
    "swap_avg_by_hour=[]\n",
    "for each in avg_by_hour:\n",
    "    swap_avg_by_hour.append([each[1],each[0]])\n",
    "#print(swap_avg_by_hour)\n",
    "table_sorted=sorted(swap_avg_by_hour,reverse=True)\n",
    "for each in table_sorted:\n",
    "    hour=dt.datetime.strptime(each[1],'%H')\n",
    "    hour_1=hour.strftime('%H')\n",
    "    output= \"{a}:00: {b:.2f} average comments per post.\".format(a=hour_1,b=each[0])\n",
    "    print(output)\n",
    "    "
   ]
  },
  {
   "cell_type": "code",
   "execution_count": 12,
   "metadata": {},
   "outputs": [
    {
     "name": "stdout",
     "output_type": "stream",
     "text": [
      "15 28.676470588235293\n",
      "13 16.31756756756757\n",
      "12 12.380116959064328\n",
      "02 11.137546468401487\n",
      "10 10.684397163120567\n",
      "04 9.7119341563786\n",
      "14 9.692007797270955\n",
      "17 9.449744463373083\n",
      "08 9.190661478599221\n",
      "11 8.96474358974359\n",
      "22 8.804177545691905\n",
      "05 8.794258373205741\n",
      "20 8.749019607843136\n",
      "21 8.687258687258687\n",
      "03 7.948339483394834\n",
      "18 7.94299674267101\n",
      "16 7.713298791018998\n",
      "00 7.5647840531561465\n",
      "01 7.407801418439717\n",
      "19 7.163043478260869\n",
      "07 7.013274336283186\n",
      "06 6.782051282051282\n",
      "23 6.696793002915452\n",
      "09 6.653153153153153\n"
     ]
    }
   ],
   "source": [
    "swap_avg_by_hour=[]\n",
    "for each in avg_by_hour:\n",
    "    swap_avg_by_hour.append([each[1],each[0]])\n",
    "#print(swap_avg_by_hour)\n",
    "table_sorted=sorted(swap_avg_by_hour,reverse=True)\n",
    "for avg, hour in table_sorted:   ### 排序的话可以这么写\n",
    "    print(hour, avg)\n",
    "    "
   ]
  },
  {
   "cell_type": "code",
   "execution_count": null,
   "metadata": {},
   "outputs": [],
   "source": []
  }
 ],
 "metadata": {
  "kernelspec": {
   "display_name": "Python 3",
   "language": "python",
   "name": "python3"
  },
  "language_info": {
   "codemirror_mode": {
    "name": "ipython",
    "version": 3
   },
   "file_extension": ".py",
   "mimetype": "text/x-python",
   "name": "python",
   "nbconvert_exporter": "python",
   "pygments_lexer": "ipython3",
   "version": "3.8.5"
  }
 },
 "nbformat": 4,
 "nbformat_minor": 4
}
